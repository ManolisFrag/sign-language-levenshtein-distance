{
 "metadata": {
  "language_info": {
   "codemirror_mode": {
    "name": "ipython",
    "version": 3
   },
   "file_extension": ".py",
   "mimetype": "text/x-python",
   "name": "python",
   "nbconvert_exporter": "python",
   "pygments_lexer": "ipython3",
   "version": "3.8.5"
  },
  "orig_nbformat": 2,
  "kernelspec": {
   "name": "python3",
   "display_name": "Python 3.8.5 64-bit ('dynamic': conda)"
  },
  "interpreter": {
   "hash": "3238b854a9160c90b91b874ab9d3d3f8ad7a3eef424317de1f456e814e9e68c9"
  }
 },
 "nbformat": 4,
 "nbformat_minor": 2,
 "cells": [
  {
   "cell_type": "code",
   "execution_count": 1,
   "source": [
    "# imports\n",
    "import pandas as pd\n",
    "import csv\n",
    "import numpy as np; np.random.seed(0)\n",
    "import os\n",
    "import glob"
   ],
   "outputs": [],
   "metadata": {}
  },
  {
   "cell_type": "code",
   "execution_count": 2,
   "source": [
    "# Select the paths of the excel files\n",
    "\n",
    "file_of_language_1 = pd.read_excel(\"PATH_TO_YOUR_FILE\", header=0, engine='openpyxl')\n",
    "file_of_language_2 = pd.read_excel(\"PATH_TO_YOUR_FILE\", header=0, engine='openpyxl')"
   ],
   "outputs": [],
   "metadata": {}
  },
  {
   "cell_type": "code",
   "execution_count": 3,
   "source": [
    "# Select the name of the output file\n",
    "output_name = \"same_glosses\""
   ],
   "outputs": [],
   "metadata": {}
  },
  {
   "cell_type": "code",
   "execution_count": 4,
   "source": [
    "new_cols = []\n",
    "for coll in file_of_language_1.columns:\n",
    "    new_cols.append(coll.replace(\" \",\"_\"))\n",
    "file_of_language_1.columns = new_cols\n",
    "\n",
    "new_cols2 = []\n",
    "for coll in file_of_language_2.columns:\n",
    "    new_cols2.append(coll.replace(\" \",\"_\"))\n",
    "file_of_language_2.columns = new_cols2"
   ],
   "outputs": [],
   "metadata": {}
  },
  {
   "cell_type": "code",
   "execution_count": 5,
   "source": [
    "# View all the columns of the excel file after they have been imported here (use them in the next step).\n",
    "# Some of them might be writen differently here compared to your excel file. Use these ones.\n",
    "\n",
    "print(file_of_language_1.columns)"
   ],
   "outputs": [
    {
     "output_type": "stream",
     "name": "stdout",
     "text": [
      "Index(['GSL_ID-Gloss', 'English_Gloss', 'Initial_HS', 'Final_HS',\n",
      "       'Initial_Location_', 'Final_Location', 'Unnamed:_6', 'Unnamed:_7',\n",
      "       'Unnamed:_8', 'Unnamed:_9', 'Unnamed:_10'],\n",
      "      dtype='object')\n"
     ]
    }
   ],
   "metadata": {}
  },
  {
   "cell_type": "code",
   "execution_count": 6,
   "source": [
    "# select only the columns that interest you\n",
    "\n",
    "columns_to_include = [\"GSL_ID-Gloss\", \"Initial_HS\", \"Final_HS\",\"Initial_Location_\", \"Final_Location\"]"
   ],
   "outputs": [],
   "metadata": {}
  },
  {
   "cell_type": "code",
   "execution_count": 7,
   "source": [
    "# Select column name that contains the gloss\n",
    "gloss_column = 'GSL_ID-Gloss'"
   ],
   "outputs": [],
   "metadata": {}
  },
  {
   "cell_type": "code",
   "execution_count": 8,
   "source": [
    "signs1_df_new = file_of_language_1[columns_to_include].dropna()\n",
    "\n",
    "signs2_df_new = file_of_language_2[columns_to_include].dropna()"
   ],
   "outputs": [],
   "metadata": {}
  },
  {
   "cell_type": "code",
   "execution_count": 9,
   "source": [
    "# Distance function\n",
    "def dict_compare(d1, d2, gloss_column):\n",
    "    #get keys of d1 that do not have a value == 0\n",
    "    d1_non_zero_keys = []\n",
    "    d2_non_zero_keys = []\n",
    "    \n",
    "    non_used_fields = []\n",
    "    # d1_non_gloss_keys = d1.keys\n",
    "    for i in d1.keys():\n",
    "        if i != gloss_column:\n",
    "            d1_non_zero_keys.append(i)\n",
    "    for j in d2.keys():\n",
    "         if j != gloss_column:\n",
    "            d2_non_zero_keys.append(j)\n",
    "    d1_keys = set(d1_non_zero_keys)\n",
    "    d2_keys = set(d2_non_zero_keys)\n",
    "    # shared_keys = d1_keys.intersection(d2_keys)\n",
    "    shared_keys = d1_keys.intersection(d2_keys)\n",
    "    modified = {o : (d1[o], d2[o]) for o in shared_keys if d1[o] != d2[o]}\n",
    "    same = set(o for o in shared_keys if d1[o] == d2[o])\n",
    "    return modified, same, shared_keys"
   ],
   "outputs": [],
   "metadata": {}
  },
  {
   "cell_type": "code",
   "execution_count": 10,
   "source": [
    "import re\n",
    "all_distances_dict = {}\n",
    "for j in signs1_df_new[gloss_column]:\n",
    "  ex4 = signs1_df_new[signs1_df_new[gloss_column] == j].to_dict(orient='list')\n",
    "  ex4_distances_dict = {}\n",
    "#   print(ex4)\n",
    "  \n",
    "  for l in signs2_df_new[gloss_column]:\n",
    "    l2 = ''.join([w for w in l if not w.isdigit()]).replace(\"_\", \"\")\n",
    "    j2 = ''.join([w for w in j if not w.isdigit()]).replace(\"_\", \"\")\n",
    "    if j2 in l2:\n",
    "      ex5 = signs2_df_new[signs2_df_new[gloss_column] == l].to_dict(orient='list')\n",
    "      modified, same, shared_keys = dict_compare(ex4, ex5, gloss_column)\n",
    "      distance = len(same)/len(shared_keys)\n",
    "      ex4_distances_dict[l] = distance\n",
    "  ex4_distances_dict_sorted = dict(sorted(ex4_distances_dict.items(), key=lambda item: item[1],reverse=True))\n",
    "  all_distances_dict[j] = ex4_distances_dict_sorted"
   ],
   "outputs": [],
   "metadata": {}
  },
  {
   "cell_type": "code",
   "execution_count": 11,
   "source": [
    "# all_distances_dict"
   ],
   "outputs": [],
   "metadata": {}
  },
  {
   "cell_type": "code",
   "execution_count": 12,
   "source": [
    "\n",
    "path = './' \n",
    "\n",
    "with open(path+output_name+'.csv', 'w') as f:\n",
    "    for key in all_distances_dict.keys():\n",
    "        f.write(\"%s,%s\\n\"%(key,all_distances_dict[key]))"
   ],
   "outputs": [],
   "metadata": {}
  }
 ]
}