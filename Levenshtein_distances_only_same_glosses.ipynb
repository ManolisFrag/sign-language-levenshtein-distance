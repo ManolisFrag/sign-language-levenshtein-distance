{
 "cells": [
  {
   "cell_type": "code",
   "execution_count": null,
   "metadata": {},
   "outputs": [],
   "source": [
    "# Imports\n",
    "import pandas as pd\n",
    "import csv\n",
    "import numpy as np; np.random.seed(0)\n",
    "import os\n",
    "import glob"
   ]
  },
  {
   "cell_type": "code",
   "execution_count": null,
   "metadata": {},
   "outputs": [],
   "source": [
    "# Select the paths of the excel files\n",
    "\n",
    "file_of_language_1 = pd.read_excel(\"PATH_TO_YOUR_FILE\", header=0, engine='openpyxl')\n",
    "file_of_language_2 = pd.read_excel(\"PATH_TO_YOUR_FILE\", header=0, engine='openpyxl')"
   ]
  },
  {
   "cell_type": "code",
   "execution_count": null,
   "metadata": {},
   "outputs": [],
   "source": [
    "# Select the name of the output file\n",
    "output_name = \"same_glosses\""
   ]
  },
  {
   "cell_type": "code",
   "execution_count": null,
   "metadata": {},
   "outputs": [],
   "source": [
    "new_cols = []\n",
    "for coll in file_of_language_1.columns:\n",
    "    new_cols.append(coll.replace(\" \",\"_\"))\n",
    "file_of_language_1.columns = new_cols\n",
    "\n",
    "new_cols2 = []\n",
    "for coll in file_of_language_2.columns:\n",
    "    new_cols2.append(coll.replace(\" \",\"_\"))\n",
    "file_of_language_2.columns = new_cols2"
   ]
  },
  {
   "cell_type": "code",
   "execution_count": null,
   "metadata": {},
   "outputs": [],
   "source": [
    "# View all the columns of the excel file after they have been imported here (use them in the next step).\n",
    "# Some of them might be written differently here compared to your excel file. Use these ones.\n",
    "\n",
    "print(file_of_language_1.columns)"
   ]
  },
  {
   "cell_type": "code",
   "execution_count": null,
   "metadata": {},
   "outputs": [],
   "source": [
    "# Select only the columns that interest you (including the column that contains the glosses)\n",
    "\n",
    "columns_to_include = [\"GSL_ID-Gloss\", \"Initial_HS\", \"Final_HS\",\"Initial_Location_\", \"Final_Location\"]"
   ]
  },
  {
   "cell_type": "code",
   "execution_count": null,
   "metadata": {},
   "outputs": [],
   "source": [
    "# Select column name that contains the gloss\n",
    "gloss_column = 'GSL_ID-Gloss'"
   ]
  },
  {
   "cell_type": "code",
   "execution_count": null,
   "metadata": {},
   "outputs": [],
   "source": [
    "signs1_df_new = file_of_language_1[columns_to_include].dropna()\n",
    "\n",
    "signs2_df_new = file_of_language_2[columns_to_include].dropna()"
   ]
  },
  {
   "cell_type": "code",
   "execution_count": null,
   "metadata": {},
   "outputs": [],
   "source": [
    "# Distance function\n",
    "def dict_compare(d1, d2, gloss_column):\n",
    "    \n",
    "    d1_non_zero_keys = []\n",
    "    d2_non_zero_keys = []\n",
    "    \n",
    "    non_used_fields = []\n",
    "    \n",
    "    for i in d1.keys():\n",
    "        if i != gloss_column:\n",
    "            d1_non_zero_keys.append(i)\n",
    "    for j in d2.keys():\n",
    "         if j != gloss_column:\n",
    "            d2_non_zero_keys.append(j)\n",
    "\n",
    "    d1_keys = set(d1_non_zero_keys)\n",
    "    d2_keys = set(d2_non_zero_keys)\n",
    "    \n",
    "    shared_keys = d1_keys.intersection(d2_keys)\n",
    "    modified = {o : (d1[o], d2[o]) for o in shared_keys if d1[o] != d2[o]}\n",
    "    same = set(o for o in shared_keys if d1[o] == d2[o])\n",
    "    \n",
    "    return modified, same, shared_keys"
   ]
  },
  {
   "cell_type": "code",
   "execution_count": null,
   "metadata": {},
   "outputs": [],
   "source": [
    "import re\n",
    "all_distances_dict = {}\n",
    "for j in signs1_df_new[gloss_column]:\n",
    "  ex4 = signs1_df_new[signs1_df_new[gloss_column] == j].to_dict(orient='list')\n",
    "  ex4_distances_dict = {}\n",
    "\n",
    "  \n",
    "  for l in signs2_df_new[gloss_column]:\n",
    "    l2 = ''.join([w for w in l if not w.isdigit()]).replace(\"_\", \"\")\n",
    "    j2 = ''.join([w for w in j if not w.isdigit()]).replace(\"_\", \"\")\n",
    "\n",
    "    if j2 in l2:\n",
    "      ex5 = signs2_df_new[signs2_df_new[gloss_column] == l].to_dict(orient='list')\n",
    "      modified, same, shared_keys = dict_compare(ex4, ex5, gloss_column)\n",
    "      distance = len(same)/len(shared_keys)\n",
    "      ex4_distances_dict[l] = distance\n",
    "      \n",
    "  ex4_distances_dict_sorted = dict(sorted(ex4_distances_dict.items(), key=lambda item: item[1],reverse=True))\n",
    "  all_distances_dict[j] = ex4_distances_dict_sorted"
   ]
  },
  {
   "cell_type": "code",
   "execution_count": null,
   "metadata": {},
   "outputs": [],
   "source": [
    "# Save results to csv file\n",
    "\n",
    "path = './' \n",
    "\n",
    "with open(path+output_name+'.csv', 'w') as f:\n",
    "    for key in all_distances_dict.keys():\n",
    "        f.write(\"%s,%s\\n\"%(key,all_distances_dict[key]))"
   ]
  }
 ],
 "metadata": {
  "interpreter": {
   "hash": "3238b854a9160c90b91b874ab9d3d3f8ad7a3eef424317de1f456e814e9e68c9"
  },
  "kernelspec": {
   "display_name": "Python 3.8.5 64-bit ('dynamic': conda)",
   "name": "python3"
  },
  "language_info": {
   "codemirror_mode": {
    "name": "ipython",
    "version": 3
   },
   "file_extension": ".py",
   "mimetype": "text/x-python",
   "name": "python",
   "nbconvert_exporter": "python",
   "pygments_lexer": "ipython3",
   "version": "3.8.5"
  },
  "orig_nbformat": 2
 },
 "nbformat": 4,
 "nbformat_minor": 2
}
